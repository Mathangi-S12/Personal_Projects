{
  "nbformat": 4,
  "nbformat_minor": 0,
  "metadata": {
    "colab": {
      "provenance": []
    },
    "kernelspec": {
      "name": "python3",
      "display_name": "Python 3"
    },
    "language_info": {
      "name": "python"
    }
  },
  "cells": [
    {
      "cell_type": "markdown",
      "source": [
        "Install all dependancies"
      ],
      "metadata": {
        "id": "D2u7zAKurvq0"
      }
    },
    {
      "cell_type": "code",
      "execution_count": null,
      "metadata": {
        "id": "b2OqfgCVE29r"
      },
      "outputs": [],
      "source": [
        "!pip install Flask"
      ]
    },
    {
      "cell_type": "markdown",
      "source": [
        "Flask Server"
      ],
      "metadata": {
        "id": "CL70jLZaru_Z"
      }
    },
    {
      "cell_type": "code",
      "source": [
        "from flask import Flask\n",
        "app = Flask(__name__)\n",
        "\n",
        "@app.route('/')\n",
        "def hello_world():\n",
        "    return 'Hello, World!'\n",
        "\n",
        "if __name__ == '__main__':\n",
        "    app.run(debug=True)"
      ],
      "metadata": {
        "id": "Q1CLvfm0HK8D"
      },
      "execution_count": null,
      "outputs": []
    },
    {
      "cell_type": "code",
      "source": [
        "!pip install transformers==4.30.2 torch"
      ],
      "metadata": {
        "id": "fsIMVP75HlPe"
      },
      "execution_count": null,
      "outputs": []
    },
    {
      "cell_type": "code",
      "source": [
        "from transformers import AutoTokenizer, AutoModelForSeq2SeqLM\n",
        "model_name = \"facebook/blenderbot-400M-distill\"\n",
        "# Load model\n",
        "model = AutoModelForSeq2SeqLM.from_pretrained(model_name)\n",
        "tokenizer = AutoTokenizer.from_pretrained(model_name)"
      ],
      "metadata": {
        "id": "G0sQv3AqKcBh"
      },
      "execution_count": null,
      "outputs": []
    },
    {
      "cell_type": "markdown",
      "source": [
        "Store conversation history"
      ],
      "metadata": {
        "id": "nsBKzXzgsNo4"
      }
    },
    {
      "cell_type": "code",
      "source": [
        "conversation_history = []\n",
        "history_string = \"\\n\".join(conversation_history)\n",
        "input_text =\"hello, how are you doing?\"\n",
        "inputs = tokenizer.encode_plus(history_string, input_text, return_tensors=\"pt\")\n",
        "print(inputs)\n",
        "tokenizer.pretrained_vocab_files_map\n",
        "outputs = model.generate(**inputs)\n",
        "print(outputs)\n",
        "response = tokenizer.decode(outputs[0], skip_special_tokens=True).strip()\n",
        "print(response)"
      ],
      "metadata": {
        "id": "bw7u6ELVL3gq"
      },
      "execution_count": null,
      "outputs": []
    },
    {
      "cell_type": "code",
      "source": [
        "conversation_history.append(input_text)\n",
        "conversation_history.append(response)\n",
        "print(conversation_history)"
      ],
      "metadata": {
        "id": "15m3buKfNL6K"
      },
      "execution_count": null,
      "outputs": []
    },
    {
      "cell_type": "code",
      "source": [
        "while True:\n",
        "    # Create conversation history string\n",
        "    history_string = \"\\n\".join(conversation_history)\n",
        "\n",
        "    # Get the input data from the user\n",
        "    input_text = input(\"> \")\n",
        "\n",
        "    # Tokenize the input text and history\n",
        "    inputs = tokenizer.encode_plus(history_string, input_text, return_tensors=\"pt\")\n",
        "\n",
        "    # Generate the response from the model\n",
        "    outputs = model.generate(**inputs)\n",
        "\n",
        "    # Decode the response\n",
        "    response = tokenizer.decode(outputs[0], skip_special_tokens=True).strip()\n",
        "\n",
        "    print(response)\n",
        "\n",
        "    # Add interaction to conversation history\n",
        "    conversation_history.append(input_text)\n",
        "    conversation_history.append(response)"
      ],
      "metadata": {
        "id": "Fhc0kbs2NXeP"
      },
      "execution_count": null,
      "outputs": []
    },
    {
      "cell_type": "code",
      "source": [
        "!pip install flask\n",
        "!pip install flask_cors\n"
      ],
      "metadata": {
        "id": "h_30cynfOEdq"
      },
      "execution_count": null,
      "outputs": []
    },
    {
      "cell_type": "markdown",
      "source": [
        "# Creating an app"
      ],
      "metadata": {
        "id": "8LB0On1-QLnH"
      }
    },
    {
      "cell_type": "code",
      "source": [
        "from flask import Flask\n",
        "\n",
        "app = Flask(__name__)\n",
        "\n",
        "@app.route('/')\n",
        "def home():\n",
        "    return 'Hello, World!'\n",
        "\n",
        "if __name__ == '__main__':\n",
        "    app.run()\n",
        "@app.route('/bananas')\n",
        "def home():\n",
        "    return 'This page has bananas!'\n",
        "\n",
        "@app.route('/bread')\n",
        "def home():\n",
        "    return 'This page has bread!'"
      ],
      "metadata": {
        "id": "gx9WLo3PQLNQ"
      },
      "execution_count": null,
      "outputs": []
    },
    {
      "cell_type": "code",
      "source": [
        "from flask import Flask\n",
        "from flask_cors import CORS\n",
        "\n",
        "app = Flask(__name__)\n",
        "CORS(app)\n",
        "\n",
        "@app.route('/')\n",
        "def home():\n",
        "    return 'Hello, World!'\n",
        "\n",
        "if __name__ == '__main__':\n",
        "    app.run()"
      ],
      "metadata": {
        "id": "DWKrlAXRRbzf"
      },
      "execution_count": null,
      "outputs": []
    },
    {
      "cell_type": "code",
      "source": [
        "!pip install transformers torch"
      ],
      "metadata": {
        "id": "w4pQucWjRsGA"
      },
      "execution_count": null,
      "outputs": []
    },
    {
      "cell_type": "code",
      "source": [
        "from flask import Flask, request, render_template\n",
        "from flask_cors import CORS\n",
        "import json\n",
        "from transformers import AutoModelForSeq2SeqLM, AutoTokenizer\n",
        "\n",
        "app = Flask(__name__)\n",
        "CORS(app)\n",
        "\n",
        "model_name = \"facebook/blenderbot-400M-distill\"\n",
        "model = AutoModelForSeq2SeqLM.from_pretrained(model_name)\n",
        "tokenizer = AutoTokenizer.from_pretrained(model_name)\n",
        "conversation_history = []\n",
        "\n",
        "@app.route('/chatbot', methods=['POST'])\n",
        "def handle_prompt():\n",
        "    data = request.get_data(as_text=True)\n",
        "    data = json.loads(data)\n",
        "    input_text = data['prompt']\n",
        "\n",
        "    # Create conversation history string\n",
        "    history = \"\\n\".join(conversation_history)\n",
        "\n",
        "    # Tokenize the input text and history\n",
        "    inputs = tokenizer.encode_plus(history, input_text, return_tensors=\"pt\")\n",
        "\n",
        "    # Generate the response from the model\n",
        "    outputs = model.generate(**inputs, max_length= 60)  # max_length will cause the model to crash at some point as history grows\n",
        "\n",
        "    # Decode the response\n",
        "    response = tokenizer.decode(outputs[0], skip_special_tokens=True).strip()\n",
        "\n",
        "    # Add interaction to conversation history\n",
        "    conversation_history.append(input_text)\n",
        "    conversation_history.append(response)\n",
        "\n",
        "    return response\n",
        "\n",
        "if __name__ == '__main__':\n",
        "    app.run()"
      ],
      "metadata": {
        "id": "JU1MKIJPSBJn"
      },
      "execution_count": null,
      "outputs": []
    },
    {
      "cell_type": "code",
      "source": [
        "!git clone https://github.com/ibm-developer-skills-network/LLM_application_chatbot\n",
        "!pip install -r LLM_application_chatbot/requirements.txt"
      ],
      "metadata": {
        "id": "GwWJCwrdSTC6"
      },
      "execution_count": null,
      "outputs": []
    },
    {
      "cell_type": "code",
      "source": [
        "@app.route('/', methods=['GET'])\n",
        "def home():\n",
        "    return render_template('index.html')"
      ],
      "metadata": {
        "id": "6sgwgR8WUtMf"
      },
      "execution_count": null,
      "outputs": []
    }
  ]
}